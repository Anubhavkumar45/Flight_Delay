{
 "cells": [
  {
   "cell_type": "code",
   "execution_count": 1,
   "metadata": {},
   "outputs": [],
   "source": [
    "import numpy as np\n",
    "import pandas as pd\n",
    "import os"
   ]
  },
  {
   "cell_type": "code",
   "execution_count": 2,
   "metadata": {},
   "outputs": [
    {
     "name": "stderr",
     "output_type": "stream",
     "text": [
      "C:\\Users\\Anubhav\\Anaconda3\\lib\\site-packages\\IPython\\core\\interactiveshell.py:3063: DtypeWarning: Columns (48,76,77,84) have mixed types.Specify dtype option on import or set low_memory=False.\n",
      "  interactivity=interactivity, compiler=compiler, result=result)\n",
      "C:\\Users\\Anubhav\\Anaconda3\\lib\\site-packages\\IPython\\core\\interactiveshell.py:3063: DtypeWarning: Columns (48,69,76,77,84) have mixed types.Specify dtype option on import or set low_memory=False.\n",
      "  interactivity=interactivity, compiler=compiler, result=result)\n"
     ]
    }
   ],
   "source": [
    "folderPath = \"C:/Users/Anubhav/Documents/Projects/Flight Data/dataset\"\n",
    "os.chdir(folderPath)\n",
    "fdata = pd.DataFrame()\n",
    "for filename in os.listdir(os.getcwd()):#Reads all data files from above location\n",
    "    temp = pd.read_csv(filename)\n",
    "    fdata = fdata.append(temp)"
   ]
  },
  {
   "cell_type": "code",
   "execution_count": 3,
   "metadata": {},
   "outputs": [],
   "source": [
    "folderPath = \"C:/Users/Anubhav/Documents/Projects/Flight Data/cleaneddata\"\n",
    "os.chdir(folderPath)#Setting working directory"
   ]
  },
  {
   "cell_type": "code",
   "execution_count": 4,
   "metadata": {},
   "outputs": [
    {
     "name": "stdout",
     "output_type": "stream",
     "text": [
      "Class imbalance:\n",
      "0.0    995688\n",
      "1.0    190893\n",
      "Name: ArrDel15, dtype: int64\n",
      "Class imbalance evened out:\n",
      "0.0    190893\n",
      "1.0    190893\n",
      "Name: ArrDel15, dtype: int64\n"
     ]
    },
    {
     "data": {
      "text/plain": [
       "110"
      ]
     },
     "execution_count": 4,
     "metadata": {},
     "output_type": "execute_result"
    }
   ],
   "source": [
    "#Handles class imbalance through sampling\n",
    "classDistribution = fdata['ArrDel15'].value_counts()\n",
    "print('Class imbalance:')\n",
    "print(classDistribution)\n",
    "fdata = fdata.sample(frac=1).reset_index(drop=True)\n",
    "zero = fdata[fdata['ArrDel15']==0].tail(classDistribution.min())\n",
    "one = fdata[fdata['ArrDel15']==1]\n",
    "data = zero.append(one)\n",
    "del zero, one\n",
    "data = data.sample(frac=1).reset_index(drop=True)\n",
    "#data.sort(['Year','Month','DayofMonth','DayOfWeek'], ascending=[False,False,False,False])\n",
    "#del fdata\n",
    "print('Class imbalance evened out:')\n",
    "print(data['ArrDel15'].value_counts())\n",
    "len(data.columns)"
   ]
  },
  {
   "cell_type": "code",
   "execution_count": 5,
   "metadata": {},
   "outputs": [
    {
     "name": "stdout",
     "output_type": "stream",
     "text": [
      "Dimension reduced to:\n"
     ]
    },
    {
     "data": {
      "text/plain": [
       "56"
      ]
     },
     "execution_count": 5,
     "metadata": {},
     "output_type": "execute_result"
    }
   ],
   "source": [
    "data = data.iloc[:,0:56]#Removing sparse columns based on the information given in DOT website\n",
    "print('Dimension reduced to:')\n",
    "len(data.columns)"
   ]
  },
  {
   "cell_type": "code",
   "execution_count": 6,
   "metadata": {},
   "outputs": [
    {
     "name": "stdout",
     "output_type": "stream",
     "text": [
      "Dimension reduced to:\n",
      "56\n",
      "Sparsity per variable:\n"
     ]
    },
    {
     "data": {
      "text/plain": [
       "Year                               0.0\n",
       "Quarter                            0.0\n",
       "Month                              0.0\n",
       "DayofMonth                         0.0\n",
       "DayOfWeek                          0.0\n",
       "FlightDate                         0.0\n",
       "Reporting_Airline                  0.0\n",
       "DOT_ID_Reporting_Airline           0.0\n",
       "IATA_CODE_Reporting_Airline        0.0\n",
       "Tail_Number                        0.0\n",
       "Flight_Number_Reporting_Airline    0.0\n",
       "OriginAirportID                    0.0\n",
       "OriginAirportSeqID                 0.0\n",
       "OriginCityMarketID                 0.0\n",
       "Origin                             0.0\n",
       "OriginCityName                     0.0\n",
       "OriginState                        0.0\n",
       "OriginStateFips                    0.0\n",
       "OriginStateName                    0.0\n",
       "OriginWac                          0.0\n",
       "DestAirportID                      0.0\n",
       "DestAirportSeqID                   0.0\n",
       "DestCityMarketID                   0.0\n",
       "Dest                               0.0\n",
       "DestCityName                       0.0\n",
       "DestState                          0.0\n",
       "DestStateFips                      0.0\n",
       "DestStateName                      0.0\n",
       "DestWac                            0.0\n",
       "CRSDepTime                         0.0\n",
       "DepTime                            0.0\n",
       "DepDelay                           0.0\n",
       "DepDelayMinutes                    0.0\n",
       "DepDel15                           0.0\n",
       "DepartureDelayGroups               0.0\n",
       "DepTimeBlk                         0.0\n",
       "TaxiOut                            0.0\n",
       "WheelsOff                          0.0\n",
       "WheelsOn                           0.0\n",
       "TaxiIn                             0.0\n",
       "CRSArrTime                         0.0\n",
       "ArrTime                            0.0\n",
       "ArrDelay                           0.0\n",
       "ArrDelayMinutes                    0.0\n",
       "ArrDel15                           0.0\n",
       "ArrivalDelayGroups                 0.0\n",
       "ArrTimeBlk                         0.0\n",
       "Cancelled                          0.0\n",
       "CancellationCode                   1.0\n",
       "Diverted                           0.0\n",
       "CRSElapsedTime                     0.0\n",
       "ActualElapsedTime                  0.0\n",
       "AirTime                            0.0\n",
       "Flights                            0.0\n",
       "Distance                           0.0\n",
       "DistanceGroup                      0.0\n",
       "dtype: float64"
      ]
     },
     "execution_count": 6,
     "metadata": {},
     "output_type": "execute_result"
    }
   ],
   "source": [
    "print('Dimension reduced to:')\n",
    "print(len(data.columns))\n",
    "print('Sparsity per variable:')\n",
    "((len(data.index) - data.count())/len(data.index))#Sparsity per variable retained"
   ]
  },
  {
   "cell_type": "code",
   "execution_count": 7,
   "metadata": {},
   "outputs": [],
   "source": [
    "data.drop(['DepDelay','DepDel15','ArrDelay','DepDelayMinutes','ArrDelayMinutes'],\n",
    "          axis=1, inplace=True)#To be excluded as per the task\n",
    "data.drop(['CancellationCode'], axis=1, inplace=True)#Removed due to 100% sparsity as seen in above cell\n",
    "data[\"FlightDate\"] = data[\"FlightDate\"].apply(lambda x: int(''.join(x.split(\"-\"))))#Formatting date for convinience"
   ]
  },
  {
   "cell_type": "code",
   "execution_count": 8,
   "metadata": {},
   "outputs": [
    {
     "data": {
      "text/plain": [
       "(381786, 50)"
      ]
     },
     "execution_count": 8,
     "metadata": {},
     "output_type": "execute_result"
    }
   ],
   "source": [
    "data.to_csv('02-03.csv')\n",
    "data.shape"
   ]
  },
  {
   "cell_type": "code",
   "execution_count": null,
   "metadata": {},
   "outputs": [],
   "source": []
  }
 ],
 "metadata": {
  "kernelspec": {
   "display_name": "Python 3",
   "language": "python",
   "name": "python3"
  },
  "language_info": {
   "codemirror_mode": {
    "name": "ipython",
    "version": 3
   },
   "file_extension": ".py",
   "mimetype": "text/x-python",
   "name": "python",
   "nbconvert_exporter": "python",
   "pygments_lexer": "ipython3",
   "version": "3.7.7"
  },
  "latex_envs": {
   "LaTeX_envs_menu_present": true,
   "autoclose": false,
   "autocomplete": true,
   "bibliofile": "biblio.bib",
   "cite_by": "apalike",
   "current_citInitial": 1,
   "eqLabelWithNumbers": true,
   "eqNumInitial": 1,
   "hotkeys": {
    "equation": "Ctrl-E",
    "itemize": "Ctrl-I"
   },
   "labels_anchors": false,
   "latex_user_defs": false,
   "report_style_numbering": false,
   "user_envs_cfg": false
  },
  "toc": {
   "base_numbering": 1,
   "nav_menu": {},
   "number_sections": true,
   "sideBar": true,
   "skip_h1_title": false,
   "title_cell": "Table of Contents",
   "title_sidebar": "Contents",
   "toc_cell": false,
   "toc_position": {},
   "toc_section_display": true,
   "toc_window_display": false
  }
 },
 "nbformat": 4,
 "nbformat_minor": 4
}
