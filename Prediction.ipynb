{
 "cells": [
  {
   "cell_type": "markdown",
   "metadata": {
    "colab_type": "text",
    "id": "OIxVLVoDyHBm"
   },
   "source": [
    "### Random Forest is chosen for Machine Learning due to following reasons:\n",
    "\n",
    "1. Medium data size\n",
    "2. Categorical nature of many variables\n",
    "3. Non-linearity of dataset (Linear relation doesn't exist for many variables as seen in visualization)\n",
    "4. Underlying complex dependencies between variables\n",
    "5. Non-parameteric approach without much assumptions"
   ]
  },
  {
   "cell_type": "code",
   "execution_count": 1,
   "metadata": {
    "colab": {},
    "colab_type": "code",
    "id": "6znAGI--yHBn"
   },
   "outputs": [],
   "source": [
    "import numpy as np\n",
    "import pandas as pd\n",
    "from datetime import datetime\n",
    "import matplotlib.pyplot as plt"
   ]
  },
  {
   "cell_type": "code",
   "execution_count": 2,
   "metadata": {},
   "outputs": [],
   "source": [
    "data= pd.read_csv('finalcleaned.csv')"
   ]
  },
  {
   "cell_type": "code",
   "execution_count": 3,
   "metadata": {
    "colab": {
     "base_uri": "https://localhost:8080/",
     "height": 34
    },
    "colab_type": "code",
    "id": "rvcukIO4yHBu",
    "outputId": "792cb2df-b40b-4e40-b67f-a2e243ab9c56"
   },
   "outputs": [
    {
     "data": {
      "text/plain": [
       "(266291, 50)"
      ]
     },
     "execution_count": 3,
     "metadata": {},
     "output_type": "execute_result"
    }
   ],
   "source": [
    "data.shape"
   ]
  },
  {
   "cell_type": "code",
   "execution_count": 4,
   "metadata": {
    "colab": {
     "base_uri": "https://localhost:8080/",
     "height": 890
    },
    "colab_type": "code",
    "id": "p-woCsJcyHBy",
    "outputId": "002f8e25-1de9-4f84-f005-344d177fc2b5"
   },
   "outputs": [
    {
     "name": "stdout",
     "output_type": "stream",
     "text": [
      "Datatype of variables:\n"
     ]
    },
    {
     "data": {
      "text/plain": [
       "Year                                 int64\n",
       "Quarter                              int64\n",
       "Month                                int64\n",
       "DayofMonth                           int64\n",
       "DayOfWeek                            int64\n",
       "FlightDate                           int64\n",
       "Reporting_Airline                   object\n",
       "DOT_ID_Reporting_Airline             int64\n",
       "IATA_CODE_Reporting_Airline         object\n",
       "Tail_Number                         object\n",
       "Flight_Number_Reporting_Airline      int64\n",
       "OriginAirportID                      int64\n",
       "OriginAirportSeqID                   int64\n",
       "OriginCityMarketID                   int64\n",
       "Origin                              object\n",
       "OriginCityName                      object\n",
       "OriginState                         object\n",
       "OriginStateFips                      int64\n",
       "OriginStateName                     object\n",
       "OriginWac                            int64\n",
       "DestAirportID                        int64\n",
       "DestAirportSeqID                     int64\n",
       "DestCityMarketID                     int64\n",
       "Dest                                object\n",
       "DestCityName                        object\n",
       "DestState                           object\n",
       "DestStateFips                        int64\n",
       "DestStateName                       object\n",
       "DestWac                              int64\n",
       "CRSDepTime                           int64\n",
       "DepTime                            float64\n",
       "DepartureDelayGroups               float64\n",
       "DepTimeBlk                          object\n",
       "TaxiOut                            float64\n",
       "WheelsOff                          float64\n",
       "WheelsOn                           float64\n",
       "TaxiIn                             float64\n",
       "CRSArrTime                           int64\n",
       "ArrTime                            float64\n",
       "ArrDel15                           float64\n",
       "ArrivalDelayGroups                 float64\n",
       "ArrTimeBlk                          object\n",
       "Cancelled                          float64\n",
       "Diverted                           float64\n",
       "CRSElapsedTime                     float64\n",
       "ActualElapsedTime                  float64\n",
       "AirTime                            float64\n",
       "Flights                            float64\n",
       "Distance                           float64\n",
       "DistanceGroup                        int64\n",
       "dtype: object"
      ]
     },
     "execution_count": 4,
     "metadata": {},
     "output_type": "execute_result"
    }
   ],
   "source": [
    "print('Datatype of variables:')\n",
    "data.dtypes#Checking variable data type as numeric type is most easy to deal with"
   ]
  },
  {
   "cell_type": "markdown",
   "metadata": {
    "colab_type": "text",
    "id": "1XfOUBBAyHB1"
   },
   "source": [
    "#### Label encoding:"
   ]
  },
  {
   "cell_type": "markdown",
   "metadata": {
    "colab_type": "text",
    "id": "z_5VUP69yHB2"
   },
   "source": [
    "Conversion of categorical values to numericals"
   ]
  },
  {
   "cell_type": "code",
   "execution_count": 5,
   "metadata": {
    "colab": {},
    "colab_type": "code",
    "id": "LVr2xxRTyHB2"
   },
   "outputs": [],
   "source": [
    "from sklearn.preprocessing import LabelEncoder\n",
    "from sklearn.model_selection import train_test_split,GridSearchCV,cross_val_score,KFold\n",
    "from sklearn.ensemble import RandomForestClassifier\n",
    "from sklearn.metrics import confusion_matrix, roc_curve"
   ]
  },
  {
   "cell_type": "code",
   "execution_count": 6,
   "metadata": {
    "colab": {},
    "colab_type": "code",
    "id": "3JvSyUeFyHB5"
   },
   "outputs": [],
   "source": [
    "le = LabelEncoder()\n",
    "\n",
    "data[\"ReportingAirline\"] = le.fit_transform(data[\"Reporting_Airline\"])\n",
    "Reporting_Airline = list(le.classes_)\n",
    "data[\"IATA_CODE_ReportingAirline\"] = le.fit_transform(data[\"IATA_CODE_Reporting_Airline\"])\n",
    "IATA_CODE_Reporting_Airline = list(le.classes_)\n",
    "data[\"TailNumber\"] = le.fit_transform(data[\"Tail_Number\"])\n",
    "Tail_Number = list(le.classes_)\n",
    "\n",
    "data[\"Origin_Point\"] = le.fit_transform(data[\"Origin\"])\n",
    "Origin = list(le.classes_)\n",
    "data[\"Origin_CityName\"] = le.fit_transform(data[\"OriginCityName\"])\n",
    "OriginCityName = list(le.classes_)\n",
    "data[\"Origin_State\"] = le.fit_transform(data[\"OriginState\"])\n",
    "OriginState = list(le.classes_)\n",
    "data[\"OriginState_Name\"] = le.fit_transform(data[\"OriginStateName\"])\n",
    "OriginStateName = list(le.classes_)\n",
    "\n",
    "data[\"Destination\"] = le.fit_transform(data[\"Dest\"])\n",
    "Dest = list(le.classes_)\n",
    "data[\"Dest_CityName\"] = le.fit_transform(data[\"DestCityName\"])\n",
    "DestCityName = list(le.classes_)\n",
    "data[\"Dest_State\"] = le.fit_transform(data[\"DestState\"])\n",
    "DestState = list(le.classes_)\n",
    "data[\"Dest_StateName\"] = le.fit_transform(data[\"DestStateName\"])\n",
    "DestStateName = list(le.classes_)\n",
    "\n",
    "data[\"DepTime_Blk\"] = le.fit_transform(data[\"DepTimeBlk\"])\n",
    "DepTimeBlk = list(le.classes_)\n",
    "data[\"ArrTime_Blk\"] = le.fit_transform(data[\"ArrTimeBlk\"])\n",
    "ArrTimeBlk = list(le.classes_)"
   ]
  },
  {
   "cell_type": "code",
   "execution_count": 7,
   "metadata": {
    "colab": {},
    "colab_type": "code",
    "id": "sSZ3dvZuyHB8"
   },
   "outputs": [],
   "source": [
    "data.drop(['Reporting_Airline','IATA_CODE_Reporting_Airline','Tail_Number',\n",
    "           'Origin','OriginCityName','OriginState','OriginStateName',\n",
    "          'Dest','DestCityName','DestState','DestStateName',\n",
    "          'DepTimeBlk','ArrTimeBlk','DepartureDelayGroups','ArrivalDelayGroups'], axis=1, inplace=True)#Removing original encoded columns"
   ]
  },
  {
   "cell_type": "code",
   "execution_count": 8,
   "metadata": {
    "colab": {
     "base_uri": "https://localhost:8080/",
     "height": 338
    },
    "colab_type": "code",
    "id": "i9bFgCXXyHB-",
    "outputId": "eb3aa4a2-ef2f-4336-e0dd-36426ee51788"
   },
   "outputs": [
    {
     "name": "stdout",
     "output_type": "stream",
     "text": [
      "Dimension reduced to:\n",
      "48\n"
     ]
    },
    {
     "data": {
      "text/html": [
       "<div>\n",
       "<style scoped>\n",
       "    .dataframe tbody tr th:only-of-type {\n",
       "        vertical-align: middle;\n",
       "    }\n",
       "\n",
       "    .dataframe tbody tr th {\n",
       "        vertical-align: top;\n",
       "    }\n",
       "\n",
       "    .dataframe thead th {\n",
       "        text-align: right;\n",
       "    }\n",
       "</style>\n",
       "<table border=\"1\" class=\"dataframe\">\n",
       "  <thead>\n",
       "    <tr style=\"text-align: right;\">\n",
       "      <th></th>\n",
       "      <th>Year</th>\n",
       "      <th>Quarter</th>\n",
       "      <th>Month</th>\n",
       "      <th>DayofMonth</th>\n",
       "      <th>DayOfWeek</th>\n",
       "      <th>FlightDate</th>\n",
       "      <th>DOT_ID_Reporting_Airline</th>\n",
       "      <th>Flight_Number_Reporting_Airline</th>\n",
       "      <th>OriginAirportID</th>\n",
       "      <th>OriginAirportSeqID</th>\n",
       "      <th>...</th>\n",
       "      <th>Origin_Point</th>\n",
       "      <th>Origin_CityName</th>\n",
       "      <th>Origin_State</th>\n",
       "      <th>OriginState_Name</th>\n",
       "      <th>Destination</th>\n",
       "      <th>Dest_CityName</th>\n",
       "      <th>Dest_State</th>\n",
       "      <th>Dest_StateName</th>\n",
       "      <th>DepTime_Blk</th>\n",
       "      <th>ArrTime_Blk</th>\n",
       "    </tr>\n",
       "  </thead>\n",
       "  <tbody>\n",
       "    <tr>\n",
       "      <th>count</th>\n",
       "      <td>266291.000000</td>\n",
       "      <td>266291.000000</td>\n",
       "      <td>266291.000000</td>\n",
       "      <td>266291.000000</td>\n",
       "      <td>266291.000000</td>\n",
       "      <td>2.662910e+05</td>\n",
       "      <td>266291.000000</td>\n",
       "      <td>266291.000000</td>\n",
       "      <td>266291.000000</td>\n",
       "      <td>2.662910e+05</td>\n",
       "      <td>...</td>\n",
       "      <td>266291.000000</td>\n",
       "      <td>266291.000000</td>\n",
       "      <td>266291.000000</td>\n",
       "      <td>266291.000000</td>\n",
       "      <td>266291.000000</td>\n",
       "      <td>266291.000000</td>\n",
       "      <td>266291.000000</td>\n",
       "      <td>266291.000000</td>\n",
       "      <td>266291.000000</td>\n",
       "      <td>266291.000000</td>\n",
       "    </tr>\n",
       "    <tr>\n",
       "      <th>mean</th>\n",
       "      <td>2019.137797</td>\n",
       "      <td>2.513003</td>\n",
       "      <td>6.544709</td>\n",
       "      <td>15.703403</td>\n",
       "      <td>3.962271</td>\n",
       "      <td>2.019205e+07</td>\n",
       "      <td>19999.554889</td>\n",
       "      <td>2577.477955</td>\n",
       "      <td>12636.593820</td>\n",
       "      <td>1.263663e+06</td>\n",
       "      <td>...</td>\n",
       "      <td>174.787071</td>\n",
       "      <td>167.212185</td>\n",
       "      <td>22.062184</td>\n",
       "      <td>22.048744</td>\n",
       "      <td>175.172717</td>\n",
       "      <td>168.607178</td>\n",
       "      <td>22.052150</td>\n",
       "      <td>22.019689</td>\n",
       "      <td>8.582919</td>\n",
       "      <td>10.129482</td>\n",
       "    </tr>\n",
       "    <tr>\n",
       "      <th>std</th>\n",
       "      <td>0.344687</td>\n",
       "      <td>1.066450</td>\n",
       "      <td>3.282255</td>\n",
       "      <td>8.744020</td>\n",
       "      <td>1.990018</td>\n",
       "      <td>3.254581e+03</td>\n",
       "      <td>372.546166</td>\n",
       "      <td>1806.062252</td>\n",
       "      <td>1515.544301</td>\n",
       "      <td>1.515542e+05</td>\n",
       "      <td>...</td>\n",
       "      <td>96.566512</td>\n",
       "      <td>101.047433</td>\n",
       "      <td>15.274421</td>\n",
       "      <td>15.322300</td>\n",
       "      <td>96.496683</td>\n",
       "      <td>100.695577</td>\n",
       "      <td>15.274984</td>\n",
       "      <td>15.314008</td>\n",
       "      <td>4.830992</td>\n",
       "      <td>5.015868</td>\n",
       "    </tr>\n",
       "    <tr>\n",
       "      <th>min</th>\n",
       "      <td>2019.000000</td>\n",
       "      <td>1.000000</td>\n",
       "      <td>1.000000</td>\n",
       "      <td>1.000000</td>\n",
       "      <td>1.000000</td>\n",
       "      <td>2.019030e+07</td>\n",
       "      <td>19393.000000</td>\n",
       "      <td>1.000000</td>\n",
       "      <td>10135.000000</td>\n",
       "      <td>1.013505e+06</td>\n",
       "      <td>...</td>\n",
       "      <td>0.000000</td>\n",
       "      <td>0.000000</td>\n",
       "      <td>0.000000</td>\n",
       "      <td>0.000000</td>\n",
       "      <td>0.000000</td>\n",
       "      <td>0.000000</td>\n",
       "      <td>0.000000</td>\n",
       "      <td>0.000000</td>\n",
       "      <td>0.000000</td>\n",
       "      <td>0.000000</td>\n",
       "    </tr>\n",
       "    <tr>\n",
       "      <th>25%</th>\n",
       "      <td>2019.000000</td>\n",
       "      <td>2.000000</td>\n",
       "      <td>4.000000</td>\n",
       "      <td>8.000000</td>\n",
       "      <td>2.000000</td>\n",
       "      <td>2.019053e+07</td>\n",
       "      <td>19790.000000</td>\n",
       "      <td>1046.000000</td>\n",
       "      <td>11292.000000</td>\n",
       "      <td>1.129202e+06</td>\n",
       "      <td>...</td>\n",
       "      <td>94.000000</td>\n",
       "      <td>75.000000</td>\n",
       "      <td>7.000000</td>\n",
       "      <td>7.000000</td>\n",
       "      <td>93.000000</td>\n",
       "      <td>75.000000</td>\n",
       "      <td>7.000000</td>\n",
       "      <td>7.000000</td>\n",
       "      <td>4.000000</td>\n",
       "      <td>6.000000</td>\n",
       "    </tr>\n",
       "    <tr>\n",
       "      <th>50%</th>\n",
       "      <td>2019.000000</td>\n",
       "      <td>2.000000</td>\n",
       "      <td>6.000000</td>\n",
       "      <td>16.000000</td>\n",
       "      <td>4.000000</td>\n",
       "      <td>2.019081e+07</td>\n",
       "      <td>19977.000000</td>\n",
       "      <td>2170.000000</td>\n",
       "      <td>12889.000000</td>\n",
       "      <td>1.288903e+06</td>\n",
       "      <td>...</td>\n",
       "      <td>187.000000</td>\n",
       "      <td>181.000000</td>\n",
       "      <td>20.000000</td>\n",
       "      <td>20.000000</td>\n",
       "      <td>186.000000</td>\n",
       "      <td>180.000000</td>\n",
       "      <td>20.000000</td>\n",
       "      <td>20.000000</td>\n",
       "      <td>9.000000</td>\n",
       "      <td>11.000000</td>\n",
       "    </tr>\n",
       "    <tr>\n",
       "      <th>75%</th>\n",
       "      <td>2019.000000</td>\n",
       "      <td>3.000000</td>\n",
       "      <td>9.000000</td>\n",
       "      <td>23.000000</td>\n",
       "      <td>6.000000</td>\n",
       "      <td>2.019112e+07</td>\n",
       "      <td>20378.000000</td>\n",
       "      <td>3975.000000</td>\n",
       "      <td>13930.000000</td>\n",
       "      <td>1.393007e+06</td>\n",
       "      <td>...</td>\n",
       "      <td>248.000000</td>\n",
       "      <td>255.000000</td>\n",
       "      <td>36.000000</td>\n",
       "      <td>36.000000</td>\n",
       "      <td>248.000000</td>\n",
       "      <td>254.000000</td>\n",
       "      <td>36.000000</td>\n",
       "      <td>36.000000</td>\n",
       "      <td>13.000000</td>\n",
       "      <td>14.000000</td>\n",
       "    </tr>\n",
       "    <tr>\n",
       "      <th>max</th>\n",
       "      <td>2020.000000</td>\n",
       "      <td>4.000000</td>\n",
       "      <td>12.000000</td>\n",
       "      <td>31.000000</td>\n",
       "      <td>7.000000</td>\n",
       "      <td>2.020023e+07</td>\n",
       "      <td>20452.000000</td>\n",
       "      <td>7881.000000</td>\n",
       "      <td>16869.000000</td>\n",
       "      <td>1.686901e+06</td>\n",
       "      <td>...</td>\n",
       "      <td>362.000000</td>\n",
       "      <td>355.000000</td>\n",
       "      <td>51.000000</td>\n",
       "      <td>51.000000</td>\n",
       "      <td>361.000000</td>\n",
       "      <td>354.000000</td>\n",
       "      <td>51.000000</td>\n",
       "      <td>51.000000</td>\n",
       "      <td>18.000000</td>\n",
       "      <td>18.000000</td>\n",
       "    </tr>\n",
       "  </tbody>\n",
       "</table>\n",
       "<p>8 rows × 48 columns</p>\n",
       "</div>"
      ],
      "text/plain": [
       "                Year        Quarter          Month     DayofMonth  \\\n",
       "count  266291.000000  266291.000000  266291.000000  266291.000000   \n",
       "mean     2019.137797       2.513003       6.544709      15.703403   \n",
       "std         0.344687       1.066450       3.282255       8.744020   \n",
       "min      2019.000000       1.000000       1.000000       1.000000   \n",
       "25%      2019.000000       2.000000       4.000000       8.000000   \n",
       "50%      2019.000000       2.000000       6.000000      16.000000   \n",
       "75%      2019.000000       3.000000       9.000000      23.000000   \n",
       "max      2020.000000       4.000000      12.000000      31.000000   \n",
       "\n",
       "           DayOfWeek    FlightDate  DOT_ID_Reporting_Airline  \\\n",
       "count  266291.000000  2.662910e+05             266291.000000   \n",
       "mean        3.962271  2.019205e+07              19999.554889   \n",
       "std         1.990018  3.254581e+03                372.546166   \n",
       "min         1.000000  2.019030e+07              19393.000000   \n",
       "25%         2.000000  2.019053e+07              19790.000000   \n",
       "50%         4.000000  2.019081e+07              19977.000000   \n",
       "75%         6.000000  2.019112e+07              20378.000000   \n",
       "max         7.000000  2.020023e+07              20452.000000   \n",
       "\n",
       "       Flight_Number_Reporting_Airline  OriginAirportID  OriginAirportSeqID  \\\n",
       "count                    266291.000000    266291.000000        2.662910e+05   \n",
       "mean                       2577.477955     12636.593820        1.263663e+06   \n",
       "std                        1806.062252      1515.544301        1.515542e+05   \n",
       "min                           1.000000     10135.000000        1.013505e+06   \n",
       "25%                        1046.000000     11292.000000        1.129202e+06   \n",
       "50%                        2170.000000     12889.000000        1.288903e+06   \n",
       "75%                        3975.000000     13930.000000        1.393007e+06   \n",
       "max                        7881.000000     16869.000000        1.686901e+06   \n",
       "\n",
       "       ...   Origin_Point  Origin_CityName   Origin_State  OriginState_Name  \\\n",
       "count  ...  266291.000000    266291.000000  266291.000000     266291.000000   \n",
       "mean   ...     174.787071       167.212185      22.062184         22.048744   \n",
       "std    ...      96.566512       101.047433      15.274421         15.322300   \n",
       "min    ...       0.000000         0.000000       0.000000          0.000000   \n",
       "25%    ...      94.000000        75.000000       7.000000          7.000000   \n",
       "50%    ...     187.000000       181.000000      20.000000         20.000000   \n",
       "75%    ...     248.000000       255.000000      36.000000         36.000000   \n",
       "max    ...     362.000000       355.000000      51.000000         51.000000   \n",
       "\n",
       "         Destination  Dest_CityName     Dest_State  Dest_StateName  \\\n",
       "count  266291.000000  266291.000000  266291.000000   266291.000000   \n",
       "mean      175.172717     168.607178      22.052150       22.019689   \n",
       "std        96.496683     100.695577      15.274984       15.314008   \n",
       "min         0.000000       0.000000       0.000000        0.000000   \n",
       "25%        93.000000      75.000000       7.000000        7.000000   \n",
       "50%       186.000000     180.000000      20.000000       20.000000   \n",
       "75%       248.000000     254.000000      36.000000       36.000000   \n",
       "max       361.000000     354.000000      51.000000       51.000000   \n",
       "\n",
       "         DepTime_Blk    ArrTime_Blk  \n",
       "count  266291.000000  266291.000000  \n",
       "mean        8.582919      10.129482  \n",
       "std         4.830992       5.015868  \n",
       "min         0.000000       0.000000  \n",
       "25%         4.000000       6.000000  \n",
       "50%         9.000000      11.000000  \n",
       "75%        13.000000      14.000000  \n",
       "max        18.000000      18.000000  \n",
       "\n",
       "[8 rows x 48 columns]"
      ]
     },
     "execution_count": 8,
     "metadata": {},
     "output_type": "execute_result"
    }
   ],
   "source": [
    "print('Dimension reduced to:')\n",
    "print(len(data.columns))\n",
    "data.describe()"
   ]
  },
  {
   "cell_type": "markdown",
   "metadata": {
    "colab_type": "text",
    "id": "QuEaDSg8yHCB"
   },
   "source": [
    "All variables are now numeric. But above statistics makes sense only for originally numeric variables. For e.g. central tendency measures for Year, Airline ID etc. do not make much sense."
   ]
  },
  {
   "cell_type": "markdown",
   "metadata": {
    "colab_type": "text",
    "id": "xE_GzKmzyHCC"
   },
   "source": [
    "Creation of dataset for modeling"
   ]
  },
  {
   "cell_type": "code",
   "execution_count": 9,
   "metadata": {
    "colab": {
     "base_uri": "https://localhost:8080/",
     "height": 50
    },
    "colab_type": "code",
    "id": "PQiPHvjdyHCC",
    "outputId": "c1dcd52e-a8d8-4e6a-cc5d-6501de3e03b0"
   },
   "outputs": [
    {
     "name": "stdout",
     "output_type": "stream",
     "text": [
      "Dimension reduced to:\n",
      "47\n"
     ]
    }
   ],
   "source": [
    "# Data set up as predictors and target\n",
    "np.random.seed(10)\n",
    "Delay_YesNo = data['ArrDel15']\n",
    "data.drop(['ArrDel15'], axis=1, inplace=True)#Removing target variable\n",
    "print('Dimension reduced to:')\n",
    "print(len(data.columns))\n",
    "data_part2 = pd.DataFrame(data)\n",
    "data_part3 = pd.DataFrame(data)\n",
    "data_part4 = pd.DataFrame(data)"
   ]
  },
  {
   "cell_type": "markdown",
   "metadata": {
    "colab_type": "text",
    "id": "8Jylc48CyHCF"
   },
   "source": [
    "Train:Test split = 80:20"
   ]
  },
  {
   "cell_type": "code",
   "execution_count": 10,
   "metadata": {
    "colab": {},
    "colab_type": "code",
    "id": "ktai11dOyHCF"
   },
   "outputs": [],
   "source": [
    "X_train, X_test, Y_train, Y_test = train_test_split(data_part2, Delay_YesNo, test_size=0.2, random_state=42)"
   ]
  },
  {
   "cell_type": "markdown",
   "metadata": {
    "colab_type": "text",
    "id": "WxJqk5LiyHCI"
   },
   "source": [
    "Grid search"
   ]
  },
  {
   "cell_type": "code",
   "execution_count": 11,
   "metadata": {
    "colab": {
     "base_uri": "https://localhost:8080/",
     "height": 34
    },
    "colab_type": "code",
    "id": "AyvCvuYzyHCK",
    "outputId": "7da8f5fc-47f5-4ce2-d2de-78075609da0b"
   },
   "outputs": [
    {
     "name": "stdout",
     "output_type": "stream",
     "text": [
      "Random forest Grid Search with non-redundant variables took [ 0:01:34.205490 ] seconds.\n"
     ]
    }
   ],
   "source": [
    "startTimeGS = datetime.now()\n",
    "rf = RandomForestClassifier()\n",
    "param_grid = {\n",
    "                 'n_estimators': [10],\n",
    "                 'min_samples_split': [2, 4],\n",
    "                 'min_samples_leaf': [2, 4],\n",
    "                 'max_features': ['sqrt', 'log2'],\n",
    "                 \"criterion\" : [\"gini\"]\n",
    "             }\n",
    "grid_rf = GridSearchCV(rf, param_grid, cv=5,n_jobs=-1)\n",
    "grid_rf.fit(X_train, Y_train)\n",
    "bestModel = grid_rf.best_estimator_\n",
    "bestParameters = grid_rf.best_params_\n",
    "gridScores = grid_rf.cv_results_\n",
    "print('Random forest Grid Search with non-redundant variables took [', datetime.now() - startTimeGS, '] seconds.')"
   ]
  },
  {
   "cell_type": "code",
   "execution_count": 12,
   "metadata": {
    "colab": {
     "base_uri": "https://localhost:8080/",
     "height": 1000
    },
    "colab_type": "code",
    "id": "nlYCNnaNyHCM",
    "outputId": "53cf20a1-7549-4408-e069-88585688707c"
   },
   "outputs": [
    {
     "name": "stdout",
     "output_type": "stream",
     "text": [
      "RandomForestClassifier(bootstrap=True, ccp_alpha=0.0, class_weight=None,\n",
      "                       criterion='gini', max_depth=None, max_features='sqrt',\n",
      "                       max_leaf_nodes=None, max_samples=None,\n",
      "                       min_impurity_decrease=0.0, min_impurity_split=None,\n",
      "                       min_samples_leaf=2, min_samples_split=2,\n",
      "                       min_weight_fraction_leaf=0.0, n_estimators=10,\n",
      "                       n_jobs=None, oob_score=False, random_state=None,\n",
      "                       verbose=0, warm_start=False)\n",
      "{'criterion': 'gini', 'max_features': 'sqrt', 'min_samples_leaf': 2, 'min_samples_split': 2, 'n_estimators': 10}\n"
     ]
    },
    {
     "data": {
      "text/plain": [
       "{'mean_fit_time': array([16.39562616, 16.27633953, 15.25445685, 15.52829771, 15.79513874,\n",
       "        15.0024941 , 15.59672346, 12.63876233]),\n",
       " 'std_fit_time': array([1.32110644, 1.45047492, 1.52654404, 0.91255513, 1.07706006,\n",
       "        1.4287929 , 1.18757265, 0.59011163]),\n",
       " 'mean_score_time': array([0.34702148, 0.30528502, 0.30203347, 0.32081723, 0.37898731,\n",
       "        0.35342379, 0.329918  , 0.22058229]),\n",
       " 'std_score_time': array([0.06957975, 0.02852448, 0.02985435, 0.03600789, 0.0296536 ,\n",
       "        0.02410208, 0.02857582, 0.04757436]),\n",
       " 'param_criterion': masked_array(data=['gini', 'gini', 'gini', 'gini', 'gini', 'gini', 'gini',\n",
       "                    'gini'],\n",
       "              mask=[False, False, False, False, False, False, False, False],\n",
       "        fill_value='?',\n",
       "             dtype=object),\n",
       " 'param_max_features': masked_array(data=['sqrt', 'sqrt', 'sqrt', 'sqrt', 'log2', 'log2', 'log2',\n",
       "                    'log2'],\n",
       "              mask=[False, False, False, False, False, False, False, False],\n",
       "        fill_value='?',\n",
       "             dtype=object),\n",
       " 'param_min_samples_leaf': masked_array(data=[2, 2, 4, 4, 2, 2, 4, 4],\n",
       "              mask=[False, False, False, False, False, False, False, False],\n",
       "        fill_value='?',\n",
       "             dtype=object),\n",
       " 'param_min_samples_split': masked_array(data=[2, 4, 2, 4, 2, 4, 2, 4],\n",
       "              mask=[False, False, False, False, False, False, False, False],\n",
       "        fill_value='?',\n",
       "             dtype=object),\n",
       " 'param_n_estimators': masked_array(data=[10, 10, 10, 10, 10, 10, 10, 10],\n",
       "              mask=[False, False, False, False, False, False, False, False],\n",
       "        fill_value='?',\n",
       "             dtype=object),\n",
       " 'params': [{'criterion': 'gini',\n",
       "   'max_features': 'sqrt',\n",
       "   'min_samples_leaf': 2,\n",
       "   'min_samples_split': 2,\n",
       "   'n_estimators': 10},\n",
       "  {'criterion': 'gini',\n",
       "   'max_features': 'sqrt',\n",
       "   'min_samples_leaf': 2,\n",
       "   'min_samples_split': 4,\n",
       "   'n_estimators': 10},\n",
       "  {'criterion': 'gini',\n",
       "   'max_features': 'sqrt',\n",
       "   'min_samples_leaf': 4,\n",
       "   'min_samples_split': 2,\n",
       "   'n_estimators': 10},\n",
       "  {'criterion': 'gini',\n",
       "   'max_features': 'sqrt',\n",
       "   'min_samples_leaf': 4,\n",
       "   'min_samples_split': 4,\n",
       "   'n_estimators': 10},\n",
       "  {'criterion': 'gini',\n",
       "   'max_features': 'log2',\n",
       "   'min_samples_leaf': 2,\n",
       "   'min_samples_split': 2,\n",
       "   'n_estimators': 10},\n",
       "  {'criterion': 'gini',\n",
       "   'max_features': 'log2',\n",
       "   'min_samples_leaf': 2,\n",
       "   'min_samples_split': 4,\n",
       "   'n_estimators': 10},\n",
       "  {'criterion': 'gini',\n",
       "   'max_features': 'log2',\n",
       "   'min_samples_leaf': 4,\n",
       "   'min_samples_split': 2,\n",
       "   'n_estimators': 10},\n",
       "  {'criterion': 'gini',\n",
       "   'max_features': 'log2',\n",
       "   'min_samples_leaf': 4,\n",
       "   'min_samples_split': 4,\n",
       "   'n_estimators': 10}],\n",
       " 'split0_test_score': array([0.93097378, 0.92606849, 0.92329899, 0.92536438, 0.90543807,\n",
       "        0.91506091, 0.90952191, 0.9164926 ]),\n",
       " 'split1_test_score': array([0.92933086, 0.93271059, 0.92843899, 0.93062173, 0.9205999 ,\n",
       "        0.911822  , 0.91907433, 0.91930903]),\n",
       " 'split2_test_score': array([0.93402338, 0.9232033 , 0.91644369, 0.92850772, 0.90867483,\n",
       "        0.91111581, 0.91275877, 0.91789889]),\n",
       " 'split3_test_score': array([0.92348496, 0.92428296, 0.92885979, 0.92231141, 0.9186969 ,\n",
       "        0.91097498, 0.91524668, 0.92587898]),\n",
       " 'split4_test_score': array([0.93120687, 0.92402479, 0.93113646, 0.93024457, 0.91116275,\n",
       "        0.91630287, 0.92550345, 0.91588039]),\n",
       " 'mean_test_score': array([0.92980397, 0.92605803, 0.92563558, 0.92740996, 0.91291449,\n",
       "        0.91305531, 0.91642103, 0.91909198]),\n",
       " 'std_test_score': array([0.00350125, 0.00345517, 0.00526241, 0.00315389, 0.00582137,\n",
       "        0.00219907, 0.00551216, 0.00359458]),\n",
       " 'rank_test_score': array([1, 3, 4, 2, 8, 7, 6, 5])}"
      ]
     },
     "execution_count": 12,
     "metadata": {},
     "output_type": "execute_result"
    }
   ],
   "source": [
    "print(bestModel)\n",
    "print(bestParameters)\n",
    "gridScores"
   ]
  },
  {
   "cell_type": "markdown",
   "metadata": {
    "colab_type": "text",
    "id": "WvBNtGUmyHCP"
   },
   "source": [
    "- Best model and parameters from above are used to train the final model on entire training set\n",
    "- 5 fold Cross validation is performed to find the overall error"
   ]
  },
  {
   "cell_type": "code",
   "execution_count": 13,
   "metadata": {
    "colab": {
     "base_uri": "https://localhost:8080/",
     "height": 50
    },
    "colab_type": "code",
    "id": "tFo7rsadyHCP",
    "outputId": "722fa1fb-3174-497f-bf7d-4e51ffa5cde4"
   },
   "outputs": [
    {
     "name": "stdout",
     "output_type": "stream",
     "text": [
      "Mean cross validation score is: 0.9251943475237379\n",
      "Random forest training and testing with with non-redundant variables took [ 0:00:19.039361 ] seconds.\n"
     ]
    }
   ],
   "source": [
    "startTimeRF = datetime.now()\n",
    "rf = RandomForestClassifier(n_estimators = bestParameters.get('n_estimators'), \n",
    "                            min_samples_split=bestParameters.get('min_samples_split'),\n",
    "                            min_samples_leaf = bestParameters.get('min_samples_leaf'),\n",
    "                            max_features = bestParameters.get('max_features'),\n",
    "                            criterion = bestParameters.get('criterion'))\n",
    "cv = KFold(n_splits=5, shuffle=True, random_state=2)\n",
    "cvScores = cross_val_score(rf, X_train, Y_train, cv=cv,n_jobs=-1)\n",
    "print ('Mean cross validation score is: ' + str(np.mean(cvScores)))\n",
    "rf.fit(X_train, Y_train)\n",
    "print('Random forest training and testing with with non-redundant variables took [', \n",
    "      datetime.now() - startTimeRF, '] seconds.')"
   ]
  },
  {
   "cell_type": "markdown",
   "metadata": {
    "colab_type": "text",
    "id": "l4UL8Peevo8q"
   },
   "source": [
    "**Performance evaluation**\n",
    "- Prediction is done on the hold out test set to evaluate performance\n",
    "- Confusion matrix, Accuracy and Recall are computed\n",
    "- ROC curve is also plotted to pictorically depict 'Area under curve (AUC)' as 'Accuracy'"
   ]
  },
  {
   "cell_type": "code",
   "execution_count": 14,
   "metadata": {
    "colab": {
     "base_uri": "https://localhost:8080/",
     "height": 668
    },
    "colab_type": "code",
    "id": "vKk8V0XTyHCS",
    "outputId": "1195e94e-9075-4443-92c1-255c7a057388"
   },
   "outputs": [
    {
     "name": "stdout",
     "output_type": "stream",
     "text": [
      "Accuracy: 93.07%\n",
      "Recall: 92.27%\n",
      "Confusion matrix:\n",
      "[[24874  1624]\n",
      " [ 2068 24693]]\n",
      "Area under the ROC curve: 0.06928213912903453\n"
     ]
    },
    {
     "data": {
      "image/png": "[encoded data removed]",
      "text/plain": [
       "<Figure size 432x288 with 1 Axes>"
      ]
     },
     "metadata": {
      "needs_background": "light"
     },
     "output_type": "display_data"
    },
    {
     "data": {
      "image/png": "[encoded data removed]",
      "text/plain": [
       "<Figure size 432x288 with 2 Axes>"
      ]
     },
     "metadata": {
      "needs_background": "light"
     },
     "output_type": "display_data"
    }
   ],
   "source": [
    "Y_rf_pred = rf.predict(X_test)\n",
    "\n",
    "labels = [0, 1]\n",
    "cm = confusion_matrix(Y_test, Y_rf_pred,labels)\n",
    "\n",
    "print('Accuracy: ' + str(np.round(100*float(cm[0][0]+cm[1][1])/float((cm[0][0]+cm[1][1] + cm[1][0] + cm[0][1])),2))+'%')\n",
    "print('Recall: ' + str(np.round(100*float((cm[1][1]))/float((cm[1][0]+cm[1][1])),2))+'%')\n",
    "print('Confusion matrix:')\n",
    "print(cm)\n",
    "\n",
    "fpr, tpr, _ = roc_curve(Y_test, Y_rf_pred)\n",
    "auc = np.trapz(fpr,tpr)\n",
    "print('Area under the ROC curve: ' + str(auc))\n",
    "\n",
    "fig = plt.figure(1)\n",
    "plt.plot(fpr,tpr,color='green')\n",
    "plt.xlabel('False positive rate (FPR)')\n",
    "plt.ylabel('True positive rate (TPR)')\n",
    "plt.title('Receiver operating characteristic (ROC)')\n",
    "\n",
    "fig = plt.figure(2)\n",
    "ax = fig.add_subplot(111)\n",
    "cax = ax.matshow(cm)\n",
    "plt.title('Confusion matrix for Random Forest classifier with original data')\n",
    "fig.colorbar(cax)\n",
    "ax.set_xticklabels([''] + labels)\n",
    "ax.set_yticklabels([''] + labels)\n",
    "plt.xlabel('Predicted')\n",
    "plt.ylabel('True')\n",
    "plt.show()"
   ]
  },
  {
   "cell_type": "markdown",
   "metadata": {
    "colab_type": "text",
    "id": "LY7OPLTtv4b-"
   },
   "source": [
    "**Inferences 1:**\n",
    "- High accuracy was obtained when model was first created.\n",
    "- This prompted cross validation with 5-fold in order to be convinced that it wasnt a chance performance (10-fold would have been better)\n",
    "- Accuracy would definately improve when more data is added. More data is always better than any sophisticated model!\n",
    "- Inferences from exploratory analysis was critical in doing feature selection and obtaining good performance\n",
    "- E.g. Certain features (DepTimeBlk, Month etc.) with substantial variation were added to improve performance\n",
    "- Handling of class imbalance improved Accuracy and Recall respectively by more than 10% and 15%"
   ]
  },
  {
   "cell_type": "markdown",
   "metadata": {
    "colab_type": "text",
    "id": "yMFBhH_4wTUU"
   },
   "source": [
    "**Model creation with non-redundant raw data**"
   ]
  },
  {
   "cell_type": "markdown",
   "metadata": {
    "colab_type": "text",
    "id": "zujA_dB4wlnz"
   },
   "source": [
    "Feature Selection to remove redundant variables"
   ]
  },
  {
   "cell_type": "markdown",
   "metadata": {
    "colab_type": "text",
    "id": "YnfHDgOWwrgM"
   },
   "source": [
    "Creation of data subset: \n",
    "Predictor and target variable columns along with some basic statistics"
   ]
  },
  {
   "cell_type": "code",
   "execution_count": 15,
   "metadata": {
    "colab": {
     "base_uri": "https://localhost:8080/",
     "height": 338
    },
    "colab_type": "code",
    "id": "89I0Bs_nwsLD",
    "outputId": "576bf874-244b-4fcb-da70-f2f666ec89fa"
   },
   "outputs": [
    {
     "name": "stdout",
     "output_type": "stream",
     "text": [
      "Dimension reduced to:\n",
      "47\n"
     ]
    },
    {
     "data": {
      "text/html": [
       "<div>\n",
       "<style scoped>\n",
       "    .dataframe tbody tr th:only-of-type {\n",
       "        vertical-align: middle;\n",
       "    }\n",
       "\n",
       "    .dataframe tbody tr th {\n",
       "        vertical-align: top;\n",
       "    }\n",
       "\n",
       "    .dataframe thead th {\n",
       "        text-align: right;\n",
       "    }\n",
       "</style>\n",
       "<table border=\"1\" class=\"dataframe\">\n",
       "  <thead>\n",
       "    <tr style=\"text-align: right;\">\n",
       "      <th></th>\n",
       "      <th>Year</th>\n",
       "      <th>Quarter</th>\n",
       "      <th>Month</th>\n",
       "      <th>DayofMonth</th>\n",
       "      <th>DayOfWeek</th>\n",
       "      <th>FlightDate</th>\n",
       "      <th>DOT_ID_Reporting_Airline</th>\n",
       "      <th>Flight_Number_Reporting_Airline</th>\n",
       "      <th>OriginAirportID</th>\n",
       "      <th>OriginAirportSeqID</th>\n",
       "      <th>...</th>\n",
       "      <th>Origin_Point</th>\n",
       "      <th>Origin_CityName</th>\n",
       "      <th>Origin_State</th>\n",
       "      <th>OriginState_Name</th>\n",
       "      <th>Destination</th>\n",
       "      <th>Dest_CityName</th>\n",
       "      <th>Dest_State</th>\n",
       "      <th>Dest_StateName</th>\n",
       "      <th>DepTime_Blk</th>\n",
       "      <th>ArrTime_Blk</th>\n",
       "    </tr>\n",
       "  </thead>\n",
       "  <tbody>\n",
       "    <tr>\n",
       "      <th>count</th>\n",
       "      <td>266291.000000</td>\n",
       "      <td>266291.000000</td>\n",
       "      <td>266291.000000</td>\n",
       "      <td>266291.000000</td>\n",
       "      <td>266291.000000</td>\n",
       "      <td>2.662910e+05</td>\n",
       "      <td>266291.000000</td>\n",
       "      <td>266291.000000</td>\n",
       "      <td>266291.000000</td>\n",
       "      <td>2.662910e+05</td>\n",
       "      <td>...</td>\n",
       "      <td>266291.000000</td>\n",
       "      <td>266291.000000</td>\n",
       "      <td>266291.000000</td>\n",
       "      <td>266291.000000</td>\n",
       "      <td>266291.000000</td>\n",
       "      <td>266291.000000</td>\n",
       "      <td>266291.000000</td>\n",
       "      <td>266291.000000</td>\n",
       "      <td>266291.000000</td>\n",
       "      <td>266291.000000</td>\n",
       "    </tr>\n",
       "    <tr>\n",
       "      <th>mean</th>\n",
       "      <td>2019.137797</td>\n",
       "      <td>2.513003</td>\n",
       "      <td>6.544709</td>\n",
       "      <td>15.703403</td>\n",
       "      <td>3.962271</td>\n",
       "      <td>2.019205e+07</td>\n",
       "      <td>19999.554889</td>\n",
       "      <td>2577.477955</td>\n",
       "      <td>12636.593820</td>\n",
       "      <td>1.263663e+06</td>\n",
       "      <td>...</td>\n",
       "      <td>174.787071</td>\n",
       "      <td>167.212185</td>\n",
       "      <td>22.062184</td>\n",
       "      <td>22.048744</td>\n",
       "      <td>175.172717</td>\n",
       "      <td>168.607178</td>\n",
       "      <td>22.052150</td>\n",
       "      <td>22.019689</td>\n",
       "      <td>8.582919</td>\n",
       "      <td>10.129482</td>\n",
       "    </tr>\n",
       "    <tr>\n",
       "      <th>std</th>\n",
       "      <td>0.344687</td>\n",
       "      <td>1.066450</td>\n",
       "      <td>3.282255</td>\n",
       "      <td>8.744020</td>\n",
       "      <td>1.990018</td>\n",
       "      <td>3.254581e+03</td>\n",
       "      <td>372.546166</td>\n",
       "      <td>1806.062252</td>\n",
       "      <td>1515.544301</td>\n",
       "      <td>1.515542e+05</td>\n",
       "      <td>...</td>\n",
       "      <td>96.566512</td>\n",
       "      <td>101.047433</td>\n",
       "      <td>15.274421</td>\n",
       "      <td>15.322300</td>\n",
       "      <td>96.496683</td>\n",
       "      <td>100.695577</td>\n",
       "      <td>15.274984</td>\n",
       "      <td>15.314008</td>\n",
       "      <td>4.830992</td>\n",
       "      <td>5.015868</td>\n",
       "    </tr>\n",
       "    <tr>\n",
       "      <th>min</th>\n",
       "      <td>2019.000000</td>\n",
       "      <td>1.000000</td>\n",
       "      <td>1.000000</td>\n",
       "      <td>1.000000</td>\n",
       "      <td>1.000000</td>\n",
       "      <td>2.019030e+07</td>\n",
       "      <td>19393.000000</td>\n",
       "      <td>1.000000</td>\n",
       "      <td>10135.000000</td>\n",
       "      <td>1.013505e+06</td>\n",
       "      <td>...</td>\n",
       "      <td>0.000000</td>\n",
       "      <td>0.000000</td>\n",
       "      <td>0.000000</td>\n",
       "      <td>0.000000</td>\n",
       "      <td>0.000000</td>\n",
       "      <td>0.000000</td>\n",
       "      <td>0.000000</td>\n",
       "      <td>0.000000</td>\n",
       "      <td>0.000000</td>\n",
       "      <td>0.000000</td>\n",
       "    </tr>\n",
       "    <tr>\n",
       "      <th>25%</th>\n",
       "      <td>2019.000000</td>\n",
       "      <td>2.000000</td>\n",
       "      <td>4.000000</td>\n",
       "      <td>8.000000</td>\n",
       "      <td>2.000000</td>\n",
       "      <td>2.019053e+07</td>\n",
       "      <td>19790.000000</td>\n",
       "      <td>1046.000000</td>\n",
       "      <td>11292.000000</td>\n",
       "      <td>1.129202e+06</td>\n",
       "      <td>...</td>\n",
       "      <td>94.000000</td>\n",
       "      <td>75.000000</td>\n",
       "      <td>7.000000</td>\n",
       "      <td>7.000000</td>\n",
       "      <td>93.000000</td>\n",
       "      <td>75.000000</td>\n",
       "      <td>7.000000</td>\n",
       "      <td>7.000000</td>\n",
       "      <td>4.000000</td>\n",
       "      <td>6.000000</td>\n",
       "    </tr>\n",
       "    <tr>\n",
       "      <th>50%</th>\n",
       "      <td>2019.000000</td>\n",
       "      <td>2.000000</td>\n",
       "      <td>6.000000</td>\n",
       "      <td>16.000000</td>\n",
       "      <td>4.000000</td>\n",
       "      <td>2.019081e+07</td>\n",
       "      <td>19977.000000</td>\n",
       "      <td>2170.000000</td>\n",
       "      <td>12889.000000</td>\n",
       "      <td>1.288903e+06</td>\n",
       "      <td>...</td>\n",
       "      <td>187.000000</td>\n",
       "      <td>181.000000</td>\n",
       "      <td>20.000000</td>\n",
       "      <td>20.000000</td>\n",
       "      <td>186.000000</td>\n",
       "      <td>180.000000</td>\n",
       "      <td>20.000000</td>\n",
       "      <td>20.000000</td>\n",
       "      <td>9.000000</td>\n",
       "      <td>11.000000</td>\n",
       "    </tr>\n",
       "    <tr>\n",
       "      <th>75%</th>\n",
       "      <td>2019.000000</td>\n",
       "      <td>3.000000</td>\n",
       "      <td>9.000000</td>\n",
       "      <td>23.000000</td>\n",
       "      <td>6.000000</td>\n",
       "      <td>2.019112e+07</td>\n",
       "      <td>20378.000000</td>\n",
       "      <td>3975.000000</td>\n",
       "      <td>13930.000000</td>\n",
       "      <td>1.393007e+06</td>\n",
       "      <td>...</td>\n",
       "      <td>248.000000</td>\n",
       "      <td>255.000000</td>\n",
       "      <td>36.000000</td>\n",
       "      <td>36.000000</td>\n",
       "      <td>248.000000</td>\n",
       "      <td>254.000000</td>\n",
       "      <td>36.000000</td>\n",
       "      <td>36.000000</td>\n",
       "      <td>13.000000</td>\n",
       "      <td>14.000000</td>\n",
       "    </tr>\n",
       "    <tr>\n",
       "      <th>max</th>\n",
       "      <td>2020.000000</td>\n",
       "      <td>4.000000</td>\n",
       "      <td>12.000000</td>\n",
       "      <td>31.000000</td>\n",
       "      <td>7.000000</td>\n",
       "      <td>2.020023e+07</td>\n",
       "      <td>20452.000000</td>\n",
       "      <td>7881.000000</td>\n",
       "      <td>16869.000000</td>\n",
       "      <td>1.686901e+06</td>\n",
       "      <td>...</td>\n",
       "      <td>362.000000</td>\n",
       "      <td>355.000000</td>\n",
       "      <td>51.000000</td>\n",
       "      <td>51.000000</td>\n",
       "      <td>361.000000</td>\n",
       "      <td>354.000000</td>\n",
       "      <td>51.000000</td>\n",
       "      <td>51.000000</td>\n",
       "      <td>18.000000</td>\n",
       "      <td>18.000000</td>\n",
       "    </tr>\n",
       "  </tbody>\n",
       "</table>\n",
       "<p>8 rows × 47 columns</p>\n",
       "</div>"
      ],
      "text/plain": [
       "                Year        Quarter          Month     DayofMonth  \\\n",
       "count  266291.000000  266291.000000  266291.000000  266291.000000   \n",
       "mean     2019.137797       2.513003       6.544709      15.703403   \n",
       "std         0.344687       1.066450       3.282255       8.744020   \n",
       "min      2019.000000       1.000000       1.000000       1.000000   \n",
       "25%      2019.000000       2.000000       4.000000       8.000000   \n",
       "50%      2019.000000       2.000000       6.000000      16.000000   \n",
       "75%      2019.000000       3.000000       9.000000      23.000000   \n",
       "max      2020.000000       4.000000      12.000000      31.000000   \n",
       "\n",
       "           DayOfWeek    FlightDate  DOT_ID_Reporting_Airline  \\\n",
       "count  266291.000000  2.662910e+05             266291.000000   \n",
       "mean        3.962271  2.019205e+07              19999.554889   \n",
       "std         1.990018  3.254581e+03                372.546166   \n",
       "min         1.000000  2.019030e+07              19393.000000   \n",
       "25%         2.000000  2.019053e+07              19790.000000   \n",
       "50%         4.000000  2.019081e+07              19977.000000   \n",
       "75%         6.000000  2.019112e+07              20378.000000   \n",
       "max         7.000000  2.020023e+07              20452.000000   \n",
       "\n",
       "       Flight_Number_Reporting_Airline  OriginAirportID  OriginAirportSeqID  \\\n",
       "count                    266291.000000    266291.000000        2.662910e+05   \n",
       "mean                       2577.477955     12636.593820        1.263663e+06   \n",
       "std                        1806.062252      1515.544301        1.515542e+05   \n",
       "min                           1.000000     10135.000000        1.013505e+06   \n",
       "25%                        1046.000000     11292.000000        1.129202e+06   \n",
       "50%                        2170.000000     12889.000000        1.288903e+06   \n",
       "75%                        3975.000000     13930.000000        1.393007e+06   \n",
       "max                        7881.000000     16869.000000        1.686901e+06   \n",
       "\n",
       "       ...   Origin_Point  Origin_CityName   Origin_State  OriginState_Name  \\\n",
       "count  ...  266291.000000    266291.000000  266291.000000     266291.000000   \n",
       "mean   ...     174.787071       167.212185      22.062184         22.048744   \n",
       "std    ...      96.566512       101.047433      15.274421         15.322300   \n",
       "min    ...       0.000000         0.000000       0.000000          0.000000   \n",
       "25%    ...      94.000000        75.000000       7.000000          7.000000   \n",
       "50%    ...     187.000000       181.000000      20.000000         20.000000   \n",
       "75%    ...     248.000000       255.000000      36.000000         36.000000   \n",
       "max    ...     362.000000       355.000000      51.000000         51.000000   \n",
       "\n",
       "         Destination  Dest_CityName     Dest_State  Dest_StateName  \\\n",
       "count  266291.000000  266291.000000  266291.000000   266291.000000   \n",
       "mean      175.172717     168.607178      22.052150       22.019689   \n",
       "std        96.496683     100.695577      15.274984       15.314008   \n",
       "min         0.000000       0.000000       0.000000        0.000000   \n",
       "25%        93.000000      75.000000       7.000000        7.000000   \n",
       "50%       186.000000     180.000000      20.000000       20.000000   \n",
       "75%       248.000000     254.000000      36.000000       36.000000   \n",
       "max       361.000000     354.000000      51.000000       51.000000   \n",
       "\n",
       "         DepTime_Blk    ArrTime_Blk  \n",
       "count  266291.000000  266291.000000  \n",
       "mean        8.582919      10.129482  \n",
       "std         4.830992       5.015868  \n",
       "min         0.000000       0.000000  \n",
       "25%         4.000000       6.000000  \n",
       "50%         9.000000      11.000000  \n",
       "75%        13.000000      14.000000  \n",
       "max        18.000000      18.000000  \n",
       "\n",
       "[8 rows x 47 columns]"
      ]
     },
     "execution_count": 15,
     "metadata": {},
     "output_type": "execute_result"
    }
   ],
   "source": [
    "#Data set up as predictors and target\n",
    "np.random.seed(10)\n",
    "rfDataOriginal = pd.DataFrame(data_part3)\n",
    "print('Dimension reduced to:')\n",
    "print(len(rfDataOriginal.columns))\n",
    "data.describe()"
   ]
  },
  {
   "cell_type": "markdown",
   "metadata": {
    "colab_type": "text",
    "id": "o-llgy2sw7qu"
   },
   "source": [
    "**Check for multi-collinearity of variables**"
   ]
  },
  {
   "cell_type": "code",
   "execution_count": 16,
   "metadata": {
    "colab": {
     "base_uri": "https://localhost:8080/",
     "height": 285
    },
    "colab_type": "code",
    "id": "_KI8Opo2w9VQ",
    "outputId": "0a091537-fd68-474d-d570-150524518be1"
   },
   "outputs": [
    {
     "data": {
      "image/png": "[encoded data removed]",
      "text/plain": [
       "<Figure size 288x288 with 1 Axes>"
      ]
     },
     "metadata": {
      "needs_background": "light"
     },
     "output_type": "display_data"
    }
   ],
   "source": [
    "plt.matshow(rfDataOriginal.corr())\n",
    "plt.title('Correlation matrix for MULTI-COLLINEAR data')\n",
    "corr = rfDataOriginal.corr()\n",
    "#corr"
   ]
  },
  {
   "cell_type": "markdown",
   "metadata": {
    "colab_type": "text",
    "id": "4plINnfXxGvj"
   },
   "source": [
    "Note: Darker cells indicate high collinearity"
   ]
  },
  {
   "cell_type": "code",
   "execution_count": 17,
   "metadata": {
    "colab": {
     "base_uri": "https://localhost:8080/",
     "height": 571
    },
    "colab_type": "code",
    "id": "_W6VhwM6xHtz",
    "outputId": "8ae4edac-7eb4-4d45-c90f-f0fad730e8e0"
   },
   "outputs": [
    {
     "data": {
      "text/plain": [
       "[('Year', 'FlightDate'),\n",
       " ('Quarter', 'Month'),\n",
       " ('OriginAirportID', 'OriginAirportSeqID'),\n",
       " ('OriginAirportID', 'Origin_Point'),\n",
       " ('OriginAirportSeqID', 'Origin_Point'),\n",
       " ('OriginStateFips', 'Origin_State'),\n",
       " ('OriginStateFips', 'OriginState_Name'),\n",
       " ('DestAirportID', 'DestAirportSeqID'),\n",
       " ('DestAirportID', 'Destination'),\n",
       " ('DestAirportSeqID', 'Destination'),\n",
       " ('DestStateFips', 'Dest_State'),\n",
       " ('DestStateFips', 'Dest_StateName'),\n",
       " ('CRSDepTime', 'DepTime'),\n",
       " ('CRSDepTime', 'WheelsOff'),\n",
       " ('CRSDepTime', 'DepTime_Blk'),\n",
       " ('DepTime', 'WheelsOff'),\n",
       " ('DepTime', 'DepTime_Blk'),\n",
       " ('WheelsOff', 'DepTime_Blk'),\n",
       " ('WheelsOn', 'ArrTime'),\n",
       " ('CRSArrTime', 'ArrTime_Blk'),\n",
       " ('CRSElapsedTime', 'ActualElapsedTime'),\n",
       " ('CRSElapsedTime', 'AirTime'),\n",
       " ('CRSElapsedTime', 'Distance'),\n",
       " ('CRSElapsedTime', 'DistanceGroup'),\n",
       " ('ActualElapsedTime', 'AirTime'),\n",
       " ('ActualElapsedTime', 'Distance'),\n",
       " ('ActualElapsedTime', 'DistanceGroup'),\n",
       " ('AirTime', 'Distance'),\n",
       " ('AirTime', 'DistanceGroup'),\n",
       " ('Distance', 'DistanceGroup'),\n",
       " ('ReportingAirline', 'IATA_CODE_ReportingAirline'),\n",
       " ('Origin_State', 'OriginState_Name'),\n",
       " ('Dest_State', 'Dest_StateName')]"
      ]
     },
     "execution_count": 17,
     "metadata": {},
     "output_type": "execute_result"
    }
   ],
   "source": [
    "corr = rfDataOriginal.corr()#Lists all pairs of highly collinear variables\n",
    "indices = np.where(corr > 0.8)\n",
    "indices = [(corr.columns[x], corr.columns[y]) for x, y in zip(*indices) if x != y and x < y]\n",
    "indices"
   ]
  },
  {
   "cell_type": "markdown",
   "metadata": {
    "colab_type": "text",
    "id": "9OmC2jBqxVgR"
   },
   "source": [
    "**Removal of only redundant columns**"
   ]
  },
  {
   "cell_type": "code",
   "execution_count": 18,
   "metadata": {
    "colab": {},
    "colab_type": "code",
    "id": "UvVnLXKfxY6t"
   },
   "outputs": [],
   "source": [
    "#Subsetting to remove redundant variables using results from above cell for quick filtering\n",
    "rfDataOriginal.drop(['OriginAirportSeqID','OriginCityMarketID', 'OriginStateFips', 'OriginWac', \n",
    "                     'DestAirportSeqID', 'DestCityMarketID', 'DestStateFips', 'DestWac',\n",
    "                     'CRSDepTime', 'CRSElapsedTime', 'CRSArrTime','IATA_CODE_ReportingAirline', \n",
    "                     'Origin_Point', 'Origin_CityName', 'Origin_State', 'OriginState_Name', \n",
    "                     'Destination', 'Dest_CityName', 'Dest_State', 'Dest_StateName'], axis=1, inplace=True)"
   ]
  },
  {
   "cell_type": "code",
   "execution_count": 19,
   "metadata": {
    "colab": {
     "base_uri": "https://localhost:8080/",
     "height": 504
    },
    "colab_type": "code",
    "id": "LGQ7yel24LaV",
    "outputId": "9181fad7-891b-4f3d-84c6-ca17ce7399b1"
   },
   "outputs": [
    {
     "name": "stdout",
     "output_type": "stream",
     "text": [
      "Dimension finally reduced to:\n",
      "27\n"
     ]
    },
    {
     "data": {
      "text/plain": [
       "['Year',\n",
       " 'Quarter',\n",
       " 'Month',\n",
       " 'DayofMonth',\n",
       " 'DayOfWeek',\n",
       " 'FlightDate',\n",
       " 'DOT_ID_Reporting_Airline',\n",
       " 'Flight_Number_Reporting_Airline',\n",
       " 'OriginAirportID',\n",
       " 'DestAirportID',\n",
       " 'DepTime',\n",
       " 'TaxiOut',\n",
       " 'WheelsOff',\n",
       " 'WheelsOn',\n",
       " 'TaxiIn',\n",
       " 'ArrTime',\n",
       " 'Cancelled',\n",
       " 'Diverted',\n",
       " 'ActualElapsedTime',\n",
       " 'AirTime',\n",
       " 'Flights',\n",
       " 'Distance',\n",
       " 'DistanceGroup',\n",
       " 'ReportingAirline',\n",
       " 'TailNumber',\n",
       " 'DepTime_Blk',\n",
       " 'ArrTime_Blk']"
      ]
     },
     "execution_count": 19,
     "metadata": {},
     "output_type": "execute_result"
    }
   ],
   "source": [
    "print('Dimension finally reduced to:')\n",
    "print(len(rfDataOriginal.columns))\n",
    "list(rfDataOriginal.columns)"
   ]
  },
  {
   "cell_type": "markdown",
   "metadata": {
    "colab_type": "text",
    "id": "3SLsCyeN4tyM"
   },
   "source": [
    "**Model building with non-redundant variables**\n"
   ]
  },
  {
   "cell_type": "markdown",
   "metadata": {
    "colab_type": "text",
    "id": "VWMi3EBK4yd9"
   },
   "source": [
    "\n",
    "Train:Test split = 80:20"
   ]
  },
  {
   "cell_type": "code",
   "execution_count": 20,
   "metadata": {
    "colab": {},
    "colab_type": "code",
    "id": "KFB1dNPr4z8Y"
   },
   "outputs": [],
   "source": [
    "X_train, X_test, Y_train, Y_test = train_test_split(rfDataOriginal, Delay_YesNo, test_size=0.2, random_state=42)"
   ]
  },
  {
   "cell_type": "markdown",
   "metadata": {
    "colab_type": "text",
    "id": "l1eCmh9948MG"
   },
   "source": [
    "Grid search"
   ]
  },
  {
   "cell_type": "code",
   "execution_count": 21,
   "metadata": {
    "colab": {
     "base_uri": "https://localhost:8080/",
     "height": 34
    },
    "colab_type": "code",
    "id": "1TmczaSU48yB",
    "outputId": "5a8e7c99-4807-4a27-d7d1-b1c11e1498e3"
   },
   "outputs": [
    {
     "name": "stdout",
     "output_type": "stream",
     "text": [
      "Random forest Grid Search with non-redundant variables took [ 0:01:10.096583 ] seconds.\n"
     ]
    }
   ],
   "source": [
    "startTimeGS = datetime.now()\n",
    "rf = RandomForestClassifier()\n",
    "param_grid = {\n",
    "                 'n_estimators': [10],\n",
    "                 'min_samples_split': [2, 4],\n",
    "                 'min_samples_leaf': [2, 4],\n",
    "                 'max_features': ['sqrt', 'log2'],\n",
    "                 \"criterion\" : [\"gini\"]\n",
    "             }\n",
    "grid_rf = GridSearchCV(rf, param_grid, cv=5,n_jobs=-1)\n",
    "grid_rf.fit(X_train, Y_train)\n",
    "bestModel = grid_rf.best_estimator_\n",
    "bestParameters = grid_rf.best_params_\n",
    "gridScores = grid_rf.cv_results_\n",
    "print('Random forest Grid Search with non-redundant variables took [', datetime.now() - startTimeGS, '] seconds.')"
   ]
  },
  {
   "cell_type": "code",
   "execution_count": 22,
   "metadata": {
    "colab": {
     "base_uri": "https://localhost:8080/",
     "height": 1000
    },
    "colab_type": "code",
    "id": "HwX45OI85EvQ",
    "outputId": "b7c9575b-7124-4592-8ada-6bfa9116301b"
   },
   "outputs": [
    {
     "name": "stdout",
     "output_type": "stream",
     "text": [
      "RandomForestClassifier(bootstrap=True, ccp_alpha=0.0, class_weight=None,\n",
      "                       criterion='gini', max_depth=None, max_features='sqrt',\n",
      "                       max_leaf_nodes=None, max_samples=None,\n",
      "                       min_impurity_decrease=0.0, min_impurity_split=None,\n",
      "                       min_samples_leaf=4, min_samples_split=2,\n",
      "                       min_weight_fraction_leaf=0.0, n_estimators=10,\n",
      "                       n_jobs=None, oob_score=False, random_state=None,\n",
      "                       verbose=0, warm_start=False)\n",
      "{'criterion': 'gini', 'max_features': 'sqrt', 'min_samples_leaf': 4, 'min_samples_split': 2, 'n_estimators': 10}\n"
     ]
    },
    {
     "data": {
      "text/plain": [
       "{'mean_fit_time': array([13.0138586 , 13.37789097, 12.90081501, 12.82971463, 11.29899902,\n",
       "        11.5602241 , 11.245151  , 11.24065924]),\n",
       " 'std_fit_time': array([0.22342228, 0.24268055, 0.08965633, 0.18855906, 0.21866982,\n",
       "        0.14767016, 0.08941158, 0.18906003]),\n",
       " 'mean_score_time': array([0.31867723, 0.34679379, 0.27819505, 0.28430781, 0.31242733,\n",
       "        0.30976276, 0.28771963, 0.20023842]),\n",
       " 'std_score_time': array([5.97705308e-02, 4.77924383e-02, 1.18176653e-02, 1.16883974e-02,\n",
       "        8.17605410e-07, 2.59157181e-02, 2.49591037e-02, 2.31989437e-02]),\n",
       " 'param_criterion': masked_array(data=['gini', 'gini', 'gini', 'gini', 'gini', 'gini', 'gini',\n",
       "                    'gini'],\n",
       "              mask=[False, False, False, False, False, False, False, False],\n",
       "        fill_value='?',\n",
       "             dtype=object),\n",
       " 'param_max_features': masked_array(data=['sqrt', 'sqrt', 'sqrt', 'sqrt', 'log2', 'log2', 'log2',\n",
       "                    'log2'],\n",
       "              mask=[False, False, False, False, False, False, False, False],\n",
       "        fill_value='?',\n",
       "             dtype=object),\n",
       " 'param_min_samples_leaf': masked_array(data=[2, 2, 4, 4, 2, 2, 4, 4],\n",
       "              mask=[False, False, False, False, False, False, False, False],\n",
       "        fill_value='?',\n",
       "             dtype=object),\n",
       " 'param_min_samples_split': masked_array(data=[2, 4, 2, 4, 2, 4, 2, 4],\n",
       "              mask=[False, False, False, False, False, False, False, False],\n",
       "        fill_value='?',\n",
       "             dtype=object),\n",
       " 'param_n_estimators': masked_array(data=[10, 10, 10, 10, 10, 10, 10, 10],\n",
       "              mask=[False, False, False, False, False, False, False, False],\n",
       "        fill_value='?',\n",
       "             dtype=object),\n",
       " 'params': [{'criterion': 'gini',\n",
       "   'max_features': 'sqrt',\n",
       "   'min_samples_leaf': 2,\n",
       "   'min_samples_split': 2,\n",
       "   'n_estimators': 10},\n",
       "  {'criterion': 'gini',\n",
       "   'max_features': 'sqrt',\n",
       "   'min_samples_leaf': 2,\n",
       "   'min_samples_split': 4,\n",
       "   'n_estimators': 10},\n",
       "  {'criterion': 'gini',\n",
       "   'max_features': 'sqrt',\n",
       "   'min_samples_leaf': 4,\n",
       "   'min_samples_split': 2,\n",
       "   'n_estimators': 10},\n",
       "  {'criterion': 'gini',\n",
       "   'max_features': 'sqrt',\n",
       "   'min_samples_leaf': 4,\n",
       "   'min_samples_split': 4,\n",
       "   'n_estimators': 10},\n",
       "  {'criterion': 'gini',\n",
       "   'max_features': 'log2',\n",
       "   'min_samples_leaf': 2,\n",
       "   'min_samples_split': 2,\n",
       "   'n_estimators': 10},\n",
       "  {'criterion': 'gini',\n",
       "   'max_features': 'log2',\n",
       "   'min_samples_leaf': 2,\n",
       "   'min_samples_split': 4,\n",
       "   'n_estimators': 10},\n",
       "  {'criterion': 'gini',\n",
       "   'max_features': 'log2',\n",
       "   'min_samples_leaf': 4,\n",
       "   'min_samples_split': 2,\n",
       "   'n_estimators': 10},\n",
       "  {'criterion': 'gini',\n",
       "   'max_features': 'log2',\n",
       "   'min_samples_leaf': 4,\n",
       "   'min_samples_split': 4,\n",
       "   'n_estimators': 10}],\n",
       " 'split0_test_score': array([0.890863  , 0.88804657, 0.89051095, 0.8873894 , 0.87973807,\n",
       "        0.87936255, 0.88124017, 0.88344638]),\n",
       " 'split1_test_score': array([0.88835168, 0.88684958, 0.89074565, 0.89121506, 0.88494848,\n",
       "        0.88243716, 0.88288309, 0.88515972]),\n",
       " 'split2_test_score': array([0.88691734, 0.88947566, 0.88973384, 0.88933484, 0.88414777,\n",
       "        0.88043937, 0.87750552, 0.8854152 ]),\n",
       " 'split3_test_score': array([0.88217622, 0.88764493, 0.8889593 , 0.89046144, 0.88398348,\n",
       "        0.87907806, 0.8848519 , 0.8822701 ]),\n",
       " 'split4_test_score': array([0.89062573, 0.88994508, 0.8926677 , 0.89001549, 0.87863212,\n",
       "        0.8809792 , 0.88595503, 0.88564991]),\n",
       " 'mean_test_score': array([0.88778679, 0.88839236, 0.89052349, 0.88968324, 0.88228998,\n",
       "        0.88045927, 0.88248714, 0.88438826]),\n",
       " 'std_test_score': array([0.00316469, 0.00115264, 0.00124237, 0.00129966, 0.00257989,\n",
       "        0.00120775, 0.00297142, 0.00131265]),\n",
       " 'rank_test_score': array([4, 3, 1, 2, 7, 8, 6, 5])}"
      ]
     },
     "execution_count": 22,
     "metadata": {},
     "output_type": "execute_result"
    }
   ],
   "source": [
    "print(bestModel)\n",
    "print(bestParameters)\n",
    "gridScores"
   ]
  },
  {
   "cell_type": "markdown",
   "metadata": {
    "colab_type": "text",
    "id": "CwXJ1U9X5NrM"
   },
   "source": [
    "- Best model and parameters from above are used to train the final model on entire training set\n",
    "- 5-fold Cross validation is performed to find the overall error"
   ]
  },
  {
   "cell_type": "code",
   "execution_count": 23,
   "metadata": {
    "colab": {
     "base_uri": "https://localhost:8080/",
     "height": 50
    },
    "colab_type": "code",
    "id": "g2Lzrbm75QO-",
    "outputId": "23fb76e9-fe0d-4993-8286-2f1f380c77d1"
   },
   "outputs": [
    {
     "name": "stdout",
     "output_type": "stream",
     "text": [
      "Mean cross validation score is: 0.8906596171925185\n",
      "Random forest training and testing with with non-redundant variables took [ 0:00:16.489420 ] seconds.\n"
     ]
    }
   ],
   "source": [
    "startTimeRF = datetime.now()\n",
    "rf = RandomForestClassifier(n_estimators = bestParameters.get('n_estimators'), \n",
    "                            min_samples_split=bestParameters.get('min_samples_split'),\n",
    "                           min_samples_leaf = bestParameters.get('min_samples_leaf'),\n",
    "                           max_features = bestParameters.get('max_features'),\n",
    "                           criterion = bestParameters.get('criterion'))\n",
    "cv = KFold(n_splits=5, shuffle=True, random_state=2)\n",
    "cvScores = cross_val_score(rf, X_train, Y_train, cv=cv, n_jobs=-1)\n",
    "print ('Mean cross validation score is: ' + str(np.mean(cvScores)))\n",
    "rf.fit(X_train, Y_train)\n",
    "print('Random forest training and testing with with non-redundant variables took [', \n",
    "      datetime.now() - startTimeRF, '] seconds.')"
   ]
  },
  {
   "cell_type": "markdown",
   "metadata": {
    "colab_type": "text",
    "id": "NnYeMyXt5up_"
   },
   "source": [
    "Performance evaluation\n",
    "- Prediction is done on the hold out test set to evaluate performance\n",
    "- Confusion matrix, Accuracy and Recall are computed\n",
    "- ROC curve is also plotted to pictorically depict 'Area under curve (AUC)' as 'Accuracy'"
   ]
  },
  {
   "cell_type": "code",
   "execution_count": 24,
   "metadata": {
    "colab": {
     "base_uri": "https://localhost:8080/",
     "height": 668
    },
    "colab_type": "code",
    "id": "4JhzpmR55ypo",
    "outputId": "d27188f9-e8c6-4037-86d5-7b7ca4b15f25"
   },
   "outputs": [
    {
     "name": "stdout",
     "output_type": "stream",
     "text": [
      "Accuracy: 89.38%\n",
      "Recall: 88.3%\n",
      "Confusion matrix:\n",
      "[[23972  2526]\n",
      " [ 3130 23631]]\n",
      "Area under the ROC curve: 0.10614459942940149\n"
     ]
    },
    {
     "data": {
      "image/png": "[encoded data removed]",
      "text/plain": [
       "<Figure size 432x288 with 1 Axes>"
      ]
     },
     "metadata": {
      "needs_background": "light"
     },
     "output_type": "display_data"
    },
    {
     "data": {
      "image/png": "[encoded data removed]",
      "text/plain": [
       "<Figure size 432x288 with 2 Axes>"
      ]
     },
     "metadata": {
      "needs_background": "light"
     },
     "output_type": "display_data"
    }
   ],
   "source": [
    "Y_rf_pred = rf.predict(X_test)\n",
    "\n",
    "labels = [0, 1]\n",
    "cm = confusion_matrix(Y_test, Y_rf_pred,labels)\n",
    "\n",
    "print('Accuracy: ' + str(np.round(100*float(cm[0][0]+cm[1][1])/float((cm[0][0]+cm[1][1] + cm[1][0] + cm[0][1])),2))+'%')\n",
    "print('Recall: ' + str(np.round(100*float((cm[1][1]))/float((cm[1][0]+cm[1][1])),2))+'%')\n",
    "print('Confusion matrix:')\n",
    "print(cm)\n",
    "\n",
    "fpr, tpr, _ = roc_curve(Y_test, Y_rf_pred)\n",
    "auc = np.trapz(fpr,tpr)\n",
    "print('Area under the ROC curve: ' + str(auc))\n",
    "\n",
    "fig = plt.figure(1)\n",
    "plt.plot(fpr,tpr,color='green')\n",
    "plt.xlabel('False positive rate (FPR)')\n",
    "plt.ylabel('True positive rate (TPR)')\n",
    "plt.title('Receiver operating characteristic (ROC)')\n",
    "\n",
    "fig = plt.figure(2)\n",
    "ax = fig.add_subplot(111)\n",
    "cax = ax.matshow(cm)\n",
    "plt.title('Confusion matrix for Random Forest classifier with original data')\n",
    "fig.colorbar(cax)\n",
    "ax.set_xticklabels([''] + labels)\n",
    "ax.set_yticklabels([''] + labels)\n",
    "plt.xlabel('Predicted')\n",
    "plt.ylabel('True')\n",
    "plt.show()"
   ]
  },
  {
   "cell_type": "markdown",
   "metadata": {
    "colab_type": "text",
    "id": "Dmt8Wyal57hW"
   },
   "source": [
    "Inferences 2:\n",
    "- It appears that the removal of redundant variables has marginally reduced perfomrnace by 3-5%\n",
    "- This seems to indicate that Random Forest works well with highly-correlated data that has many interactions\n",
    "- In a nutshell, multicollinearity hasn't affected overall model prediction. But, it can cause overfitting and is not a concern here in the light of results from cross validation."
   ]
  },
  {
   "cell_type": "code",
   "execution_count": null,
   "metadata": {
    "colab": {},
    "colab_type": "code",
    "id": "Vbw-fTXN7cXW"
   },
   "outputs": [],
   "source": []
  }
 ],
 "metadata": {
  "colab": {
   "collapsed_sections": [],
   "name": "Prediction.ipynb",
   "provenance": []
  },
  "kernelspec": {
   "display_name": "Python 3",
   "language": "python",
   "name": "python3"
  },
  "language_info": {
   "codemirror_mode": {
    "name": "ipython",
    "version": 3
   },
   "file_extension": ".py",
   "mimetype": "text/x-python",
   "name": "python",
   "nbconvert_exporter": "python",
   "pygments_lexer": "ipython3",
   "version": "3.7.7"
  },
  "latex_envs": {
   "LaTeX_envs_menu_present": true,
   "autoclose": false,
   "autocomplete": true,
   "bibliofile": "biblio.bib",
   "cite_by": "apalike",
   "current_citInitial": 1,
   "eqLabelWithNumbers": true,
   "eqNumInitial": 1,
   "hotkeys": {
    "equation": "Ctrl-E",
    "itemize": "Ctrl-I"
   },
   "labels_anchors": false,
   "latex_user_defs": false,
   "report_style_numbering": false,
   "user_envs_cfg": false
  },
  "toc": {
   "base_numbering": 1,
   "nav_menu": {},
   "number_sections": true,
   "sideBar": true,
   "skip_h1_title": false,
   "title_cell": "Table of Contents",
   "title_sidebar": "Contents",
   "toc_cell": false,
   "toc_position": {},
   "toc_section_display": true,
   "toc_window_display": false
  }
 },
 "nbformat": 4,
 "nbformat_minor": 1
}
